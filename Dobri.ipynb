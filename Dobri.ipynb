{
  "cells": [
    {
      "metadata": {
        "trusted": true,
        "scrolled": true
      },
      "cell_type": "code",
      "source": "import tensorflow as tf\nimport matplotlib.pyplot as plt\nimport numpy as np\nimport random\n\nmnist = tf.keras.datasets.mnist  #zabudovaný dataset rukovo pýsaných 0-9 čísel v obrázku 28x28\n(x_train,y_train), (x_test, y_test) = mnist.load_data()  \n\n# normalizujeme dáta medzi 0 a 1 aby sieť sa vedel rýchlejšie učiť\nx_train = tf.keras.utils.normalize(x_train, axis=1)\nx_test = tf.keras.utils.normalize(x_test, axis=1)\n\n# vytvorenie vstupnej vrstvy \nmodel = tf.keras.models.Sequential() #vytvoríme lineárnu verstvu\nmodel.add (tf.keras.layers.Flatten()) # vyrovnáme obrázky (splošíme)\n\n#vytvorime 2 skryté vrstvy \nmodel.add (tf.keras.layers.Dense(20, activation=tf.nn.relu)) #počet neurónov\nmodel.add (tf.keras.layers.Dense(20, activation=tf.nn.relu))\n\n#výstopný neurón\nmodel.add (tf.keras.layers.Dense(10, activation=tf.nn.softmax)) \n\nmodel.compile(optimizer= \"adam\",\n             loss=\"sparse_categorical_crossentropy\",      #stupeň chyby/error\n              metrics=[\"accuracy\"] )\nmodel.fit(x_train, y_train, epochs=3)",
      "execution_count": null,
      "outputs": []
    },
    {
      "metadata": {
        "trusted": true
      },
      "cell_type": "code",
      "source": "cislo = random.randint(0,100)\nplt.imshow(x_test[cislo], cmap = plt.cm.binary)",
      "execution_count": null,
      "outputs": []
    },
    {
      "metadata": {
        "trusted": true
      },
      "cell_type": "code",
      "source": "predikcia = model.predict([x_test])\nprint(np.argmax(predikcia[cislo]))",
      "execution_count": null,
      "outputs": []
    },
    {
      "metadata": {
        "trusted": true
      },
      "cell_type": "code",
      "source": "",
      "execution_count": null,
      "outputs": []
    }
  ],
  "metadata": {
    "kernelspec": {
      "name": "python36",
      "display_name": "Python 3.6",
      "language": "python"
    },
    "language_info": {
      "mimetype": "text/x-python",
      "nbconvert_exporter": "python",
      "name": "python",
      "pygments_lexer": "ipython3",
      "version": "3.6.6",
      "file_extension": ".py",
      "codemirror_mode": {
        "version": 3,
        "name": "ipython"
      }
    }
  },
  "nbformat": 4,
  "nbformat_minor": 2
}